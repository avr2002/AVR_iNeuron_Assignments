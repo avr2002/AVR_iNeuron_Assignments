{
 "cells": [
  {
   "cell_type": "markdown",
   "id": "561b9bd9",
   "metadata": {},
   "source": [
    "Q1 - create a file class for reading data from respective file with a method name read and write.\n",
    "\n",
    "\n",
    "Q2  - try to inherit read and write method form parent class to child class to perform read and write operation "
   ]
  },
  {
   "cell_type": "code",
   "execution_count": 1,
   "id": "a0401fb5",
   "metadata": {},
   "outputs": [],
   "source": [
    "import logging\n",
    "logging.basicConfig(filename = '29th-JAN-OOPs.log', level = logging.DEBUG, \n",
    "                    format = '%(asctime)s %(levelname)s %(message)s', filemode='w')\n",
    "\n",
    "class File_Creation:\n",
    "    def __init__(self, file_name, file_path):\n",
    "        logging.info(\"File_Creation class called and file_path & file_name accepted!\")\n",
    "        self.file_name = file_name\n",
    "        self.file_path = file_path\n",
    "        try:\n",
    "            f = open(f'{file_path}\\\\{file_name}.txt', mode='w')\n",
    "            logging.info(\"file created at required file_path\")\n",
    "            f.close()\n",
    "        except Exception as e:\n",
    "            logging.error(\"Error occured during File Creation!\")\n",
    "            logging.exception(\"Exception is: \"+ str(e))\n",
    "\n",
    "\n",
    "class File_Operation(File_Creation):\n",
    "    def __int__(self):\n",
    "        logging.info(\"File_Operation class is called!\")\n",
    "        File_Creation.__init__(self)\n",
    "        \n",
    "    def read(self):\n",
    "        try:\n",
    "            logging.info(\"Execting read method of File_Operation class\")\n",
    "            with open(f'{self.file_path}\\\\{self.file_name}.txt', mode='r') as f:\n",
    "                print(f.read())\n",
    "                f.seek(0)\n",
    "                f.close()\n",
    "        except Exception as e:\n",
    "            logging.error(\"Error occured in read method of File_Operation class\")\n",
    "            logging.exception(\"Exception occured: \"+ str(e))\n",
    "    \n",
    "    def write(self, data):\n",
    "        try:\n",
    "            logging.info(\"Execting write method of File_Operation class\")\n",
    "            with open(f'{self.file_path}\\\\{self.file_name}.txt', mode='w') as f:\n",
    "                f.write(data)\n",
    "                f.close()\n",
    "        except Exception as e:\n",
    "            logging.error(\"Error occured in write method of File_Operation class\")\n",
    "            logging.exception(\"Exception occured: \"+ str(e))"
   ]
  }
 ],
 "metadata": {
  "kernelspec": {
   "display_name": "Python 3",
   "language": "python",
   "name": "python3"
  },
  "language_info": {
   "codemirror_mode": {
    "name": "ipython",
    "version": 3
   },
   "file_extension": ".py",
   "mimetype": "text/x-python",
   "name": "python",
   "nbconvert_exporter": "python",
   "pygments_lexer": "ipython3",
   "version": "3.8.5"
  }
 },
 "nbformat": 4,
 "nbformat_minor": 5
}
